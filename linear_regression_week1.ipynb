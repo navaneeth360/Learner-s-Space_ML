{
 "cells": [
  {
   "cell_type": "code",
   "execution_count": 1,
   "metadata": {
    "id": "-zTLHrFCT6KY"
   },
   "outputs": [],
   "source": [
    "import numpy as np\n",
    "import pandas as pd\n",
    "import matplotlib.pyplot as plt\n",
    "\n",
    "# Aim is to predict the marks of students of the test data"
   ]
  },
  {
   "cell_type": "code",
   "execution_count": 2,
   "metadata": {
    "id": "p0KHq8ZgTpU4"
   },
   "outputs": [
    {
     "name": "stdout",
     "output_type": "stream",
     "text": [
      "[['no' 'M' 2 ... 6 18 118]\n",
      " ['yes' 'M' 2 ... 7 19 107]\n",
      " ['yes' 'M' 3 ... 5 18 108]\n",
      " ...\n",
      " ['yes' 'M' 2 ... 5 17 123]\n",
      " ['yes' 'F' 1 ... 8 17 104]\n",
      " ['yes' 'M' 1 ... 6 18 128]]\n",
      "[[0 0 2 ... 6 18 118]\n",
      " [1 0 2 ... 7 19 107]\n",
      " [1 0 3 ... 5 18 108]\n",
      " ...\n",
      " [1 0 2 ... 5 17 123]\n",
      " [1 1 1 ... 8 17 104]\n",
      " [1 0 1 ... 6 18 128]]\n"
     ]
    },
    {
     "data": {
      "image/png": "[encoded data removed]",
      "text/plain": [
       "<Figure size 640x480 with 1 Axes>"
      ]
     },
     "metadata": {},
     "output_type": "display_data"
    }
   ],
   "source": [
    "# Use the file namd 'training data' to train the model\n",
    "\n",
    "data = pd.read_excel('Training data.xlsx')\n",
    "x_train = np.array(data.iloc[:,0:8])\n",
    "y_train = np.array(data.iloc[:,8]).reshape(-1,1)\n",
    "\n",
    "print(x_train)\n",
    "# Try plotting y_train with different features\n",
    "plt.scatter(x_train[:,6],y_train)\n",
    "# To get an idea whether to add some features or not\n",
    "# Add some features if required in x_train\n",
    "\n",
    "# Also do label encoding for features not represented in numbers\n",
    "# refer the link if not know : https://youtu.be/589nCGeWG1w?si=t2Wa7LgbUOO4RooM\n",
    "\n",
    "\n",
    "def feature_changing(x_train):\n",
    "    for i in x_train:\n",
    "        if i[0]=='no':\n",
    "            i[0] = int(0)\n",
    "        else:\n",
    "            i[0] = int(1)\n",
    "        if i[1]=='M':\n",
    "            i[1] = int(0)\n",
    "        else:\n",
    "            i[1] = int(1)\n",
    "    return x_train\n",
    "\n",
    "x_train = feature_changing(x_train)\n",
    "print(x_train)\n",
    "#x_train = x_train.astype(int)"
   ]
  },
  {
   "cell_type": "code",
   "execution_count": 3,
   "metadata": {
    "id": "tYshvtYlVour"
   },
   "outputs": [],
   "source": [
    "def z_score(x_train):\n",
    "    x_mean = np.mean(x_train,axis = 0)\n",
    "    x_std = np.std(x_train,axis = 0)\n",
    "    x_train = (x_train - x_mean)/x_std\n",
    "    return x_train,x_std,x_mean\n",
    "#x_train = z_score(x_train)"
   ]
  },
  {
   "cell_type": "code",
   "execution_count": 4,
   "metadata": {
    "id": "O5dOwbNbWJWa"
   },
   "outputs": [],
   "source": [
    "def cost(x_train,y_train,w,b):\n",
    "    y_cap = np.dot(x_train,w) + b\n",
    "    loss = (1/(2*x_train.shape[0]))*np.sum((y_cap - y_train)**2)\n",
    "    return loss"
   ]
  },
  {
   "cell_type": "code",
   "execution_count": 5,
   "metadata": {
    "id": "hW8p2cTNU74W"
   },
   "outputs": [],
   "source": [
    "def gradient_descent(x_train,y_train,w,b):\n",
    "    alpha = 0.003\n",
    "    y_cap = np.dot(x_train,w) + b\n",
    "    dJ = (1/x_train.shape[0])*alpha\n",
    "    w,b = w - dJ*(np.dot(x_train.T,(y_cap - y_train))), b - dJ*np.sum(y_cap - y_train)\n",
    "    return w,b"
   ]
  },
  {
   "cell_type": "code",
   "execution_count": 6,
   "metadata": {
    "id": "Kl-fioJ5WkYn"
   },
   "outputs": [
    {
     "name": "stdout",
     "output_type": "stream",
     "text": [
      "Congratulations, your accuracy is 100.0%\n"
     ]
    }
   ],
   "source": [
    "\n",
    "x_train = x_train.astype(np.float64)\n",
    "x_train,x_std,x_mean = z_score(x_train)\n",
    "\n",
    "np.random.seed(2147483647)\n",
    "w = np.random.randn(x_train.shape[1],1)\n",
    "b = np.random.randn(1)\n",
    "\n",
    "old_cost = 0\n",
    "\n",
    "while abs(old_cost - cost(x_train,y_train,w,b))>0.00001:\n",
    "    old_cost = cost(x_train,y_train,w,b)\n",
    "    w,b = gradient_descent(x_train,y_train,w,b)\n",
    "\n",
    "x_predict = pd.read_excel('Test data.xlsx').iloc[:,:8].to_numpy()\n",
    "x_predict = feature_changing(x_predict)\n",
    "x_predict = (x_predict - x_mean)/x_std\n",
    "ans = pd.read_excel('Test data.xlsx').iloc[:,8].to_numpy()\n",
    "\n",
    "y_predict = np.dot(x_predict,w) + b\n",
    "\n",
    "accuracy = 0\n",
    "for dim in range(len(ans)):\n",
    "    if abs(y_predict[dim]-ans[dim])<0.5: # do not change the tolerance as you'll be checked on +- 0.5 error only\n",
    "        accuracy += 1\n",
    "accuracy = round(accuracy*100/200.0,2)\n",
    "ok = 'Congratulations' if accuracy>95 else 'Optimization required'\n",
    "print(f\"{ok}, your accuracy is {accuracy}%\")"
   ]
  },
  {
   "cell_type": "code",
   "execution_count": null,
   "metadata": {},
   "outputs": [],
   "source": []
  }
 ],
 "metadata": {
  "colab": {
   "provenance": []
  },
  "kernelspec": {
   "display_name": "Python 3 (ipykernel)",
   "language": "python",
   "name": "python3"
  },
  "language_info": {
   "codemirror_mode": {
    "name": "ipython",
    "version": 3
   },
   "file_extension": ".py",
   "mimetype": "text/x-python",
   "name": "python",
   "nbconvert_exporter": "python",
   "pygments_lexer": "ipython3",
   "version": "3.10.9"
  }
 },
 "nbformat": 4,
 "nbformat_minor": 1
}
